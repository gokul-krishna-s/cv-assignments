{
 "cells": [
  {
   "attachments": {},
   "cell_type": "markdown",
   "id": "99f83668",
   "metadata": {},
   "source": [
    "Q1. What exactly is a feature?\n",
    "\n",
    "    A feature refers to a specific aspect or characteristic of an image or video that can be used to identify or track objects or patterns. Examples of features include edges, corners, textures, and colors. These features are often extracted from an image or video using various techniques such as filtering, thresholding, and segmentation, and are then used as input for tasks such as object recognition, tracking, and scene understanding."
   ]
  },
  {
   "attachments": {},
   "cell_type": "markdown",
   "id": "015e04af",
   "metadata": {},
   "source": [
    "Q2. For a top edge detector, write out the convolutional kernel matrix.\n",
    "\n",
    "    A top edge detector kernel is the one that detects edges running vertically on the top of an image. A common kernel used for this purpose is the Sobel operator, which is a 3x3 matrix with the following values:\n",
    "\n",
    "    -1  0  1\n",
    "    -2  0  2\n",
    "    -1  0  1\n"
   ]
  },
  {
   "attachments": {},
   "cell_type": "markdown",
   "id": "15b1046b",
   "metadata": {},
   "source": [
    "Q3. Describe the mathematical operation that a 3x3 kernel performs on a single pixel in an image.\n",
    "\n",
    "    The mathematical operation that a 3x3 kernel performs on a single pixel in an image is called convolution. For each element in the kernel, the element is multiplied by the corresponding pixel in the image and the results are summed up. The sum is then used as the output value for that pixel."
   ]
  },
  {
   "attachments": {},
   "cell_type": "markdown",
   "id": "b38060dd",
   "metadata": {},
   "source": [
    "Q4. What is the significance of a convolutional kernel added to a 3x3 matrix of zeroes?\n",
    "\n",
    "    When a convolutional kernel is added to a 3x3 matrix of zeroes, it allows to extract specific features from the image by highlighting certain pixels and suppressing others. The values in the kernel matrix represent the weights of each pixel in the image, and are used to calculate the output of the convolution operation.\n",
    "    For example, if the kernel is designed to detect edges, it will have higher weights on the pixels along the edges and lower weights on the pixels away from the edges. When the kernel is convolved with the image, the output will be an image where the edges stand out more than the other regions of the image, making it easier to detect."
   ]
  },
  {
   "attachments": {},
   "cell_type": "markdown",
   "id": "3c44fd78",
   "metadata": {},
   "source": [
    "Q5. What exactly is padding?\n",
    "\n",
    "    The purpose of padding is to ensure that the output image is the same size as the input image. It is done by adding pixels around the edges of an image. It is used when applying a convolutional kernel to an image."
   ]
  },
  {
   "attachments": {},
   "cell_type": "markdown",
   "id": "133bac6e",
   "metadata": {},
   "source": [
    "Q6. What is the concept of stride?\n",
    "\n",
    "    The stride determines how much the kernel overlaps with itself as it moves across the image, and it affects the size of the output image. For example, if a neural network's stride is set to 1, the filter will move one pixel, or unit,  at a time."
   ]
  },
  {
   "attachments": {},
   "cell_type": "markdown",
   "id": "5abc501d",
   "metadata": {},
   "source": [
    "Q7. What are the shapes of PyTorch's 2D convolution's input and weight parameters?\n",
    "\n",
    "    The input parameter is a 4-dimensional tensor, where the first dimension represents the batch size, the second and third dimensions represent the number of channels and the height and width of the image respectively, and the fourth dimension represents the number of images in the batch. The shape of this tensor can be represented as (batch_size, in_channels, height, width).\n",
    "\n",
    "    The weight parameter is a 4-dimensional tensor as well, where the first dimension represents the number of output channels, the second dimension represents the number of input channels, the third and fourth dimensions represent the height and width of the kernel respectively. The shape of this tensor can be represented as (out_channels, in_channels, kernel_height, kernel_width)."
   ]
  },
  {
   "attachments": {},
   "cell_type": "markdown",
   "id": "b82c9515",
   "metadata": {},
   "source": [
    "Q8. What exactly is a channel?\n",
    "\n",
    "    An image can be thought of as a multi-dimensional array of pixel values, and each channel represents a specific dimension of this array. The most common type of image is a RGB image, which has 3 channels: Red, Green, and Blue. Each channel stores the intensity values of a specific color for each pixel in the image. "
   ]
  },
  {
   "attachments": {},
   "cell_type": "markdown",
   "id": "683f76ed",
   "metadata": {},
   "source": [
    "Q9. Explain relationship between matrix multiplication and a convolution?\n",
    "\n",
    "    Matrix multiplication and convolution both involve multiplying a matrix with another matrix to produce a resultant matrix. In matrix multiplication, the two matrices must have compatible dimensions, meaning that the number of columns in the first matrix must be the same as the number of rows in the second matrix. Convolution, on the other hand involves sliding a kernel (also called a filter) over an image and computing the dot product between the kernel and the image at each position. The result is a new matrix, called a feature map."
   ]
  }
 ],
 "metadata": {
  "kernelspec": {
   "display_name": "Python 3",
   "language": "python",
   "name": "python3"
  },
  "language_info": {
   "codemirror_mode": {
    "name": "ipython",
    "version": 3
   },
   "file_extension": ".py",
   "mimetype": "text/x-python",
   "name": "python",
   "nbconvert_exporter": "python",
   "pygments_lexer": "ipython3",
   "version": "3.8.8"
  }
 },
 "nbformat": 4,
 "nbformat_minor": 5
}
